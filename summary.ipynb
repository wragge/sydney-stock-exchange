{
 "cells": [
  {
   "cell_type": "markdown",
   "metadata": {},
   "source": [
    "# Project summary"
   ]
  },
  {
   "cell_type": "markdown",
   "metadata": {},
   "source": [
    "The aim of this project is to try and extract useful data from the [Sydney Stock exchange stock and share lists](http://archivescollection.anu.edu.au/index.php/or59j) held by the ANU Archives.\n",
    "\n",
    "As the content note indicates:\n",
    "\n",
    "> These are large format bound volumes of the official lists that were posted up for the public to see - 3 times a day - forenoon, noon and afternoon - at the close of the trading session in the call room at the Sydney Stock Exchange. The closing prices of stocks and shares were entered in by hand on pre-printed sheets.\n",
    "\n",
    "There are 199 volumes covering the period from 1901 to 1950, containing more than 70,000 pages. Each pages is divided into columns. The number of columns varies across the collection. Each column is divided into rows labelled with printed company or stock names. The prices are written alongside the company names.\n",
    "\n",
    "The challenge is not simply to recognise the printed and handwritten values, but to maintain the tabular structure so that the extracted values form a useful dataset."
   ]
  },
  {
   "cell_type": "markdown",
   "metadata": {},
   "source": [
    "## Column and header detection"
   ]
  },
  {
   "cell_type": "markdown",
   "metadata": {},
   "source": [
    "* [Column detection code](detect_columns.ipynb)\n",
    "* [Columns tester](Columns-tester.ipynb) – a tool to test column detection on a single page\n",
    "* [Detect columns in all images by year](find-image-sizes-and-columns-by-year.ipynb) – code to run column detection across all the images, saving the results for each year in a CSV file\n",
    "* [Explore column detection results](Column-detection-results.ipynb)\n",
    "* [Visualise column detection results](Visualise-column-detection-results.ipynb)\n",
    "\n",
    "### Examples\n",
    "\n",
    "![Column detection example](images/N193-064_0078.jpg)\n",
    "\n",
    "### Results\n",
    "\n",
    "* [Volumes 1 to 100](https://wragge.github.io/sydney-stock-exchange/chart-vols-1-100.html)\n",
    "* [Volumes 101 to 199](https://wragge.github.io/sydney-stock-exchange/chart-vols-101-199.html)\n",
    "\n",
    "![Visualisation of column detection](images/column-detection-results.png)"
   ]
  },
  {
   "cell_type": "markdown",
   "metadata": {},
   "source": [
    "## Row detection"
   ]
  },
  {
   "attachments": {},
   "cell_type": "markdown",
   "metadata": {},
   "source": [
    "* [Row detection code](detect-rows.ipynb)\n",
    "\n",
    "### Examples\n",
    "\n",
    "![Row detection example](images/N193-113_0012-col-4-2.jpg)"
   ]
  },
  {
   "cell_type": "markdown",
   "metadata": {},
   "source": [
    "## Accessing CloudStor files using WebDav"
   ]
  },
  {
   "cell_type": "markdown",
   "metadata": {},
   "source": [
    "* [CloudStor access via WebDav](Cloudstor-access-via-WebDAV.ipynb)\n",
    "* [CloudStor access to a public share](Cloudstor-access-to-a-public-share-via-WebDAV.ipynb)"
   ]
  },
  {
   "cell_type": "markdown",
   "metadata": {},
   "source": [
    "## Using the Zooniverse API"
   ]
  },
  {
   "cell_type": "markdown",
   "metadata": {},
   "source": [
    "* [Upload subjects to Zooniverse using the Panoptes API](Upload-to-Zooniverse-using-API.ipynb)"
   ]
  },
  {
   "cell_type": "markdown",
   "metadata": {},
   "source": [
    "## Using the Transkribus API"
   ]
  },
  {
   "cell_type": "markdown",
   "metadata": {},
   "source": [
    "* [Using the Transkribus API](transkribus-api-tests.ipynb)"
   ]
  },
  {
   "cell_type": "code",
   "execution_count": null,
   "metadata": {},
   "outputs": [],
   "source": []
  }
 ],
 "metadata": {
  "kernelspec": {
   "display_name": "Python 3",
   "language": "python",
   "name": "python3"
  },
  "language_info": {
   "codemirror_mode": {
    "name": "ipython",
    "version": 3
   },
   "file_extension": ".py",
   "mimetype": "text/x-python",
   "name": "python",
   "nbconvert_exporter": "python",
   "pygments_lexer": "ipython3",
   "version": "3.7.3"
  }
 },
 "nbformat": 4,
 "nbformat_minor": 2
}

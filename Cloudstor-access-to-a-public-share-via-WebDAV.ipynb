{
 "cells": [
  {
   "cell_type": "markdown",
   "metadata": {},
   "source": [
    "# Cloudstor access to a public share via WebDAV\n",
    "\n",
    "See [CloudStor access via WebDAV](Cloudstor-access-via-WebDAV.ipynb) for the beginning of this adventure. Having access data from my CloudStor account via WebDAV I was left wondering if you could do the same with something that had been publicly shared. It turns out you can, but once again, it's not obvious..."
   ]
  },
  {
   "cell_type": "code",
   "execution_count": 24,
   "metadata": {},
   "outputs": [],
   "source": [
    "# Software setup is the same as last time\n",
    "import webdav.client as wc\n",
    "import random\n",
    "import pandas as pd\n",
    "import time\n",
    "from credentials import *"
   ]
  },
  {
   "cell_type": "markdown",
   "metadata": {},
   "source": [
    "## Configuration\n",
    "\n",
    "A bit of googling relating to OwnCloud, WebDAV, and public shares led me to [this discussion](https://forum.owncloud.org/viewtopic.php?t=36962). The critical thing is that you set the `webdav_login` to the value of the token in the share link, and the password to an empty string.\n",
    "\n",
    "I uploaded a page from an ASIO file I'd harvested from the National Archives to my CloudStor account and created a public link: `https://cloudstor.aarnet.edu.au/plus/s/yWvV1Mno3FWp6cO`\n",
    "\n",
    "The bit on the end is the token that you use as the login: `yWvV1Mno3FWp6cO`\n",
    "\n",
    "The hostname is the same as last time, but what is the `webdav_root`? This had me flummoxed for a while, but eventually I realised that you had to change the `remote.php` in the standard WebDAV config to `public.php`.\n",
    "\n",
    "BINGO!"
   ]
  },
  {
   "cell_type": "code",
   "execution_count": 25,
   "metadata": {},
   "outputs": [],
   "source": [
    "options = {\n",
    "    'webdav_hostname': 'https://cloudstor.aarnet.edu.au',\n",
    "    'webdav_login':    'yWvV1Mno3FWp6cO',\n",
    "    'webdav_password': '',\n",
    "    'webdav_root': '/plus/public.php/webdav/'\n",
    "}"
   ]
  },
  {
   "cell_type": "markdown",
   "metadata": {},
   "source": [
    "## Access the file"
   ]
  },
  {
   "cell_type": "code",
   "execution_count": 26,
   "metadata": {},
   "outputs": [],
   "source": [
    "client = wc.Client(options)"
   ]
  },
  {
   "cell_type": "code",
   "execution_count": 27,
   "metadata": {},
   "outputs": [
    {
     "data": {
      "text/plain": [
       "['272217-p285.jpg']"
      ]
     },
     "execution_count": 27,
     "metadata": {},
     "output_type": "execute_result"
    }
   ],
   "source": [
    "client.list()"
   ]
  },
  {
   "cell_type": "code",
   "execution_count": 28,
   "metadata": {},
   "outputs": [
    {
     "data": {
      "text/plain": [
       "{'created': None,\n",
       " 'name': None,\n",
       " 'size': '274306',\n",
       " 'modified': 'Sun, 19 Jul 2015 10:29:01 GMT'}"
      ]
     },
     "execution_count": 28,
     "metadata": {},
     "output_type": "execute_result"
    }
   ],
   "source": [
    "client.info('272217-p285.jpg')"
   ]
  }
 ],
 "metadata": {
  "kernelspec": {
   "display_name": "Python 3",
   "language": "python",
   "name": "python3"
  },
  "language_info": {
   "codemirror_mode": {
    "name": "ipython",
    "version": 3
   },
   "file_extension": ".py",
   "mimetype": "text/x-python",
   "name": "python",
   "nbconvert_exporter": "python",
   "pygments_lexer": "ipython3",
   "version": "3.6.5"
  }
 },
 "nbformat": 4,
 "nbformat_minor": 2
}
